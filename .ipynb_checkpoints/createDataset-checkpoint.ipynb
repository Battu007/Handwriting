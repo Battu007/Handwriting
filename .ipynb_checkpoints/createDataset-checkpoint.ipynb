{
 "cells": [
  {
   "cell_type": "code",
   "execution_count": 17,
   "id": "4fbd2902",
   "metadata": {},
   "outputs": [
    {
     "name": "stdout",
     "output_type": "stream",
     "text": [
      "ERROR! Session/line number was not unique in database. History logging moved to new session 132\n"
     ]
    }
   ],
   "source": [
    "import numpy as np\n",
    "import os, sys\n",
    "from os import walk\n",
    "from tensorflow.keras.preprocessing.image import ImageDataGenerator, array_to_img, img_to_array, load_img\n",
    "from PIL import Image\n",
    "import pandas as pd "
   ]
  },
  {
   "cell_type": "code",
   "execution_count": 21,
   "id": "facb08d2",
   "metadata": {},
   "outputs": [],
   "source": [
    "subfolders = [ f.path for f in os.scandir(\"Characters\\JPEGAugmented\\FinalData\") if f.is_dir() ]\n",
    "trainFiles = 0\n",
    "\n",
    "for subfolder in subfolders:\n",
    "    _, _, filenames = next(walk(subfolder))\n",
    "    trainFiles += len(filenames)\n",
    "    \n",
    "dataset = np.ndarray(shape=(trainFiles, 32, 32, 1), dtype=np.int32)\n",
    "types = np.ndarray(shape=(trainFiles, 1), dtype=np.int32)\n",
    "counter = 0\n",
    "\n",
    "for subfolder in subfolders:\n",
    "    _, _, filenames = next(walk(subfolder))\n",
    "    # splitName = str(subfolder).split(\"\\\\\")\n",
    "    # os.mkdir(\"Characters\\\\JPEGResized\\\\\"+splitName[2])\n",
    "    chType = 0\n",
    "    for filename in filenames:\n",
    "        image = Image.open(subfolder+\"\\\\\"+filename)\n",
    "        \n",
    "        x = img_to_array(image)\n",
    "        \n",
    "        dataset[counter] = x\n",
    "        types[counter] = chType\n",
    "        \n",
    "    chType += 1\n",
    "\n",
    "np.save(\"datasetX.npy\", dataset)\n",
    "np.save(\"datasetY.npy\", types)"
   ]
  },
  {
   "cell_type": "code",
   "execution_count": null,
   "id": "68d7f289",
   "metadata": {},
   "outputs": [],
   "source": []
  }
 ],
 "metadata": {
  "kernelspec": {
   "display_name": "Python 3",
   "language": "python",
   "name": "python3"
  },
  "language_info": {
   "codemirror_mode": {
    "name": "ipython",
    "version": 3
   },
   "file_extension": ".py",
   "mimetype": "text/x-python",
   "name": "python",
   "nbconvert_exporter": "python",
   "pygments_lexer": "ipython3",
   "version": "3.7.0"
  }
 },
 "nbformat": 4,
 "nbformat_minor": 5
}
